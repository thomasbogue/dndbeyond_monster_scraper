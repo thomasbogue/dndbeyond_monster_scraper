{
 "cells": [
  {
   "cell_type": "code",
   "execution_count": 14,
   "id": "96bb162e",
   "metadata": {},
   "outputs": [],
   "source": [
    "import pandas\n",
    "from bs4 import BeautifulSoup\n",
    "import splinter\n",
    "import re"
   ]
  },
  {
   "cell_type": "code",
   "execution_count": 75,
   "id": "818dcb78",
   "metadata": {},
   "outputs": [],
   "source": [
    "monsters_to_import = [\n",
    "    'http://dndroll.wikidot.com/creatures:giant-poisonous-snake',\n",
    "    'http://dndroll.wikidot.com/creatures:ape',\n",
    "    'http://dndroll.wikidot.com/creatures:spider'\n",
    "]"
   ]
  },
  {
   "cell_type": "code",
   "execution_count": 76,
   "id": "fadfdeef",
   "metadata": {},
   "outputs": [],
   "source": [
    "url = monsters_to_import[2]\n",
    "monster = {}\n",
    "monster['url'] = url\n",
    "browser = splinter.Browser(\"firefox\")\n",
    "browser.visit(url)\n",
    "html = browser.html\n",
    "soup = BeautifulSoup(html, 'html.parser')\n",
    "browser.quit()"
   ]
  },
  {
   "cell_type": "code",
   "execution_count": 77,
   "id": "f041c015",
   "metadata": {},
   "outputs": [
    {
     "ename": "AttributeError",
     "evalue": "'NoneType' object has no attribute 'find_all'",
     "output_type": "error",
     "traceback": [
      "\u001b[1;31m---------------------------------------------------------------------------\u001b[0m",
      "\u001b[1;31mAttributeError\u001b[0m                            Traceback (most recent call last)",
      "Cell \u001b[1;32mIn[77], line 10\u001b[0m\n\u001b[0;32m      8\u001b[0m movement \u001b[38;5;241m=\u001b[39m fp_lines[\u001b[38;5;241m3\u001b[39m]\n\u001b[0;32m      9\u001b[0m stats_table \u001b[38;5;241m=\u001b[39m first_paragraph\u001b[38;5;241m.\u001b[39mfindNext(\u001b[38;5;124m\"\u001b[39m\u001b[38;5;124mtable\u001b[39m\u001b[38;5;124m\"\u001b[39m)\n\u001b[1;32m---> 10\u001b[0m rows \u001b[38;5;241m=\u001b[39m stats_table\u001b[38;5;241m.\u001b[39mfind_all(\u001b[38;5;124m\"\u001b[39m\u001b[38;5;124mtr\u001b[39m\u001b[38;5;124m\"\u001b[39m)\n\u001b[0;32m     12\u001b[0m \u001b[38;5;28;01mdef\u001b[39;00m \u001b[38;5;21mget_stat\u001b[39m(row):\n\u001b[0;32m     13\u001b[0m     tds \u001b[38;5;241m=\u001b[39m row\u001b[38;5;241m.\u001b[39mfind_all(\u001b[38;5;124m\"\u001b[39m\u001b[38;5;124mtd\u001b[39m\u001b[38;5;124m\"\u001b[39m)\n",
      "\u001b[1;31mAttributeError\u001b[0m: 'NoneType' object has no attribute 'find_all'"
     ]
    }
   ],
   "source": [
    "main_block = soup.find(\"div\", id=\"main-content\")\n",
    "name = main_block.find(\"div\", id=\"page-title\").text.strip()\n",
    "first_paragraph = main_block.find(\"div\", id=\"page-content\").find(\"p\")\n",
    "fp_lines = first_paragraph.text.split(\"\\n\")\n",
    "meta = fp_lines[0]\n",
    "AC = re.match(r'[^0-9]*([0-9]+)', fp_lines[1]).group(1)\n",
    "HP = re.match(r'[^0-9]*(.*)', fp_lines[2]).group(1)\n",
    "movement = fp_lines[3]\n",
    "stats_table = first_paragraph.findNext(\"table\")\n",
    "rows = stats_table.find_all(\"tr\")\n",
    "\n",
    "def get_stat(row):\n",
    "    tds = row.find_all(\"td\")\n",
    "    return f'{tds[1].text} ({tds[2].text})'\n",
    "\n",
    "stats = [get_stat(row) for row in rows[1:7]]\n",
    "second_paragraph = stats_table.findNext(\"p\")\n",
    "tidbits = second_paragraph.text.replace(\"Skills \", \"\").replace(\"Senses \",\"\").replace(\"Languages \",\"\").replace(\"Challenge\", \"CR\").replace(\"—\",\"\").replace(\"\\n\\n\",\"\\n\").replace(\"\\n\",\"<br>\").replace(\" ft.\",\"'\")\n",
    "tidbits = re.sub(r'Passive Perception [0-9]*<br>', \"\", tidbits)\n",
    "\n",
    "third_paragraph = second_paragraph.findNext(\"p\")\n",
    "attributes = third_paragraph.text.replace(\" ft.\",\"'\")"
   ]
  },
  {
   "cell_type": "code",
   "execution_count": null,
   "id": "61ba4c47",
   "metadata": {},
   "outputs": [],
   "source": []
  }
 ],
 "metadata": {
  "kernelspec": {
   "display_name": "dndbeyond_monster_scraper",
   "language": "python",
   "name": "dndbeyond_monster_scraper"
  },
  "language_info": {
   "codemirror_mode": {
    "name": "ipython",
    "version": 3
   },
   "file_extension": ".py",
   "mimetype": "text/x-python",
   "name": "python",
   "nbconvert_exporter": "python",
   "pygments_lexer": "ipython3",
   "version": "3.11.5"
  }
 },
 "nbformat": 4,
 "nbformat_minor": 5
}
