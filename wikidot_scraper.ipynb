{
 "cells": [
  {
   "cell_type": "code",
   "execution_count": 1,
   "id": "96bb162e",
   "metadata": {},
   "outputs": [],
   "source": [
    "import pandas\n",
    "from bs4 import BeautifulSoup\n",
    "import splinter\n",
    "import re"
   ]
  },
  {
   "cell_type": "code",
   "execution_count": 2,
   "id": "818dcb78",
   "metadata": {},
   "outputs": [],
   "source": [
    "monsters_to_import = [\n",
    "    'http://dndroll.wikidot.com/creatures:giant-poisonous-snake',\n",
    "    'http://dndroll.wikidot.com/creatures:ape',\n",
    "    'http://dndroll.wikidot.com/creatures:spider'\n",
    "]"
   ]
  },
  {
   "cell_type": "code",
   "execution_count": 3,
   "id": "fadfdeef",
   "metadata": {},
   "outputs": [
    {
     "name": "stderr",
     "output_type": "stream",
     "text": [
      "Problem reading geckodriver versions: error sending request for url (https://raw.githubusercontent.com/SeleniumHQ/selenium/trunk/common/geckodriver/geckodriver-support.json): error trying to connect: dns error: failed to lookup address information: Try again. Using latest geckodriver version\n",
      "There was an error managing geckodriver (error sending request for url (https://github.com/mozilla/geckodriver/releases/latest): error trying to connect: dns error: failed to lookup address information: Try again); using driver found in the cache\n",
      "Error sending stats to Plausible: error sending request for url (https://plausible.io/api/event): operation timed out\n"
     ]
    }
   ],
   "source": [
    "url = monsters_to_import[2]\n",
    "monster = {}\n",
    "monster['url'] = url\n",
    "browser = splinter.Browser(\"firefox\")\n",
    "browser.visit(url)\n",
    "html = browser.html\n",
    "soup = BeautifulSoup(html, 'html.parser')\n",
    "browser.quit()"
   ]
  },
  {
   "cell_type": "code",
   "execution_count": 20,
   "id": "f041c015",
   "metadata": {},
   "outputs": [
    {
     "name": "stdout",
     "output_type": "stream",
     "text": [
      "\n",
      "\n",
      "Tiny beast, unaligned\n",
      "Tiny beast, unaligned\n",
      "Armor Class 12\n",
      "Armor Class 12\n",
      "Hit Points 1 (1d4 - 1)\n",
      "Hit Points 1 (1d4 - 1)\n",
      "Speed 20 ft., climb 20 ft.\n",
      "Speed 20 ft., climb 20 ft.\n",
      "\n",
      "\n",
      "Ability\n",
      "Ability\n"
     ]
    }
   ],
   "source": [
    "main_block = soup.find(\"div\", id=\"main-content\")\n",
    "name = main_block.find(\"div\", id=\"page-title\").text.strip()\n",
    "stats_table = main_block.find(\"table\")\n",
    "meta = None\n",
    "AC = None\n",
    "HP = None\n",
    "movement = None\n",
    "\n",
    "def get_AC(line):\n",
    "    return re.match(r'[^0-9]*([0-9]+)', line).group(1)\n",
    "def get_HP(line):\n",
    "    return re.match(r'[^0-9]*(.*)', line).group(1)\n",
    "\n",
    "page_block = main_block.find(\"div\", id=\"page-content\")\n",
    "if page_block.find(\"p\").findNext(\"table\") == None: # no paragraph before stats table\n",
    "    for line in page_block.text.split(\"\\n\"):\n",
    "        print(line)\n",
    "        line = line.strip()\n",
    "        if line == \"\":\n",
    "            continue\n",
    "        print(line)\n",
    "        if meta == None:\n",
    "            meta = line\n",
    "        if re.match(r'.*Armor\\s+Class', line):\n",
    "            AC = get_AC(line)\n",
    "        elif re.match(r'.*Hit\\s+Points', line):\n",
    "            HP = get_HP(line)\n",
    "        elif re.match(r'.*ft\\.', line) or re.match(r'.*feet:\n",
    "            movement = line\n",
    "        elif re.match(r'.*Ability', line):\n",
    "            break;\n",
    "else:\n",
    "    first_paragraph = main_block.find(\"div\", id=\"page-content\").find(\"p\")\n",
    "    fp_lines = first_paragraph.text.split(\"\\n\")\n",
    "    meta = fp_lines[0]\n",
    "    AC = get_AC(fp_lines[1])\n",
    "    HP = get_HP(fp_lines[2])\n",
    "    movement = fp_lines[3]\n",
    "\n",
    "rows = stats_table.find_all(\"tr\")\n",
    "\n",
    "def get_stat(row):\n",
    "    tds = row.find_all(\"td\")\n",
    "    return f'{tds[1].text} ({tds[2].text})'\n",
    "\n",
    "stats = [get_stat(row) for row in rows[1:7]]\n",
    "second_paragraph = stats_table.findNext(\"p\")\n",
    "tidbits = second_paragraph.text.replace(\"Skills \", \"\").replace(\"Senses \",\"\").replace(\"Languages \",\"\").replace(\"Challenge\", \"CR\").replace(\"—\",\"\").replace(\"\\n\\n\",\"\\n\").replace(\"\\n\",\"<br>\").replace(\" ft.\",\"'\")\n",
    "tidbits = re.sub(r'Passive Perception [0-9]*<br>', \"\", tidbits)\n",
    "\n",
    "third_paragraph = second_paragraph.findNext(\"p\")\n",
    "attributes = third_paragraph.text.replace(\" ft.\",\"'\")"
   ]
  },
  {
   "cell_type": "code",
   "execution_count": 21,
   "id": "f61b0119-6304-4776-8894-61100232f3f0",
   "metadata": {},
   "outputs": [
    {
     "data": {
      "text/plain": [
       "('12', None, None, 'Tiny beast, unaligned')"
      ]
     },
     "execution_count": 21,
     "metadata": {},
     "output_type": "execute_result"
    }
   ],
   "source": [
    "(AC,HP,movement,meta)"
   ]
  },
  {
   "cell_type": "code",
   "execution_count": null,
   "id": "32e27c5b-d796-4bad-8f35-73d0a19f685f",
   "metadata": {},
   "outputs": [],
   "source": []
  }
 ],
 "metadata": {
  "kernelspec": {
   "display_name": "dnd_monster_scraper",
   "language": "python",
   "name": "dnd_monster_scraper"
  },
  "language_info": {
   "codemirror_mode": {
    "name": "ipython",
    "version": 3
   },
   "file_extension": ".py",
   "mimetype": "text/x-python",
   "name": "python",
   "nbconvert_exporter": "python",
   "pygments_lexer": "ipython3",
   "version": "3.10.12"
  }
 },
 "nbformat": 4,
 "nbformat_minor": 5
}
