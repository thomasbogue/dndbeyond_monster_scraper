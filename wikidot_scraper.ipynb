{
 "cells": [
  {
   "cell_type": "code",
   "execution_count": 1,
   "id": "96bb162e",
   "metadata": {},
   "outputs": [],
   "source": [
    "import pandas\n",
    "from bs4 import BeautifulSoup\n",
    "import splinter\n",
    "import re"
   ]
  },
  {
   "cell_type": "code",
   "execution_count": 2,
   "id": "818dcb78",
   "metadata": {},
   "outputs": [],
   "source": [
    "monsters_to_import = [\n",
    "    'http://dndroll.wikidot.com/creatures:giant-poisonous-snake',\n",
    "    'http://dndroll.wikidot.com/creatures:ape',\n",
    "    'http://dndroll.wikidot.com/creatures:spider'\n",
    "]\n",
    "database = 'monsters_wikidot.csv'"
   ]
  },
  {
   "cell_type": "code",
   "execution_count": 23,
   "id": "dc4b0c47-6104-46e1-baaa-41ac52d12284",
   "metadata": {},
   "outputs": [],
   "source": [
    "def get_AC(line):\n",
    "    return re.match(r'[^0-9]*([0-9]+)', line).group(1)\n",
    "def get_HP(line):\n",
    "    return re.match(r'[^0-9]*(.*)', line).group(1)\n",
    "def get_stat(row):\n",
    "    tds = row.find_all(\"td\")\n",
    "    return f'{tds[1].text} ({tds[2].text})'\n",
    "def abbreviate(string):\n",
    "    s2 = string.replace(\"Skills \", \"\").replace(\"Senses \",\"\").replace(\"Languages \",\"\").replace(\"Challenge\", \"CR\").replace(\"—\",\"\").replace(\"\\n\\n\",\"\\n\").replace(\"\\n\",\"<br>\").replace(\" ft.\",\"'\")\n",
    "    s2 = re.sub(r'Passive Perception [0-9]*<br>', \"\", s2)\n",
    "    return s2\n",
    "\n",
    "def get_monster(url):\n",
    "    monster = {}\n",
    "    monster['url'] = url\n",
    "    browser = splinter.Browser(\"firefox\")\n",
    "    browser.visit(url)\n",
    "    soup = BeautifulSoup(browser.html, 'html.parser')\n",
    "    browser.quit()\n",
    "    main_block = soup.find(\"div\", id=\"main-content\")\n",
    "    name = main_block.find(\"div\", id=\"page-title\").text.strip()\n",
    "    stats_table = main_block.find(\"table\")\n",
    "    page_block = main_block.find(\"div\", id=\"page-content\")\n",
    "    if page_block.find(\"p\").findNext(\"table\") == None: # no paragraph before stats table\n",
    "        for line in page_block.text.split(\"\\n\"):  \n",
    "            line = line.strip()\n",
    "            if line == \"\":\n",
    "                continue\n",
    "            if 'meta' in monster.keys():\n",
    "                monster['meta'] = line\n",
    "                print(f\"setting meta to {meta}\")\n",
    "            if re.match(r'.*Armor\\s+Class', line):\n",
    "                monster['AC'] = get_AC(line)\n",
    "            elif re.match(r'.*Hit\\s+Points', line):\n",
    "                monster['HP'] = get_HP(line)\n",
    "            elif re.match(r'.*ft\\.', line) or re.match(r'.*feet', line):\n",
    "                monster['movement'] = line\n",
    "            elif re.match(r'.*Ability', line):\n",
    "                break;\n",
    "    else:\n",
    "        first_paragraph = main_block.find(\"div\", id=\"page-content\").find(\"p\")\n",
    "        fp_lines = first_paragraph.text.split(\"\\n\")\n",
    "        monster['meta'] = fp_lines[0]\n",
    "        monster['AC'] = get_AC(fp_lines[1])\n",
    "        monster['HP'] = get_HP(fp_lines[2])\n",
    "        monster['movement'] = fp_lines[3]\n",
    "        \n",
    "    rows= stats_table.find_all(\"tr\")\n",
    "    stats = [get_stat(row) for row in rows[1:7]]\n",
    "    monster['str'] = stats[0]\n",
    "    monster['dex'] = stats[1]\n",
    "    monster['con'] = stats[2]\n",
    "    monster['int'] = stats[3]\n",
    "    monster['wis'] = stats[4]\n",
    "    monster['cha'] = stats[5]\n",
    "    second_paragraph = stats_table.findNext(\"p\")\n",
    "    tidbits = abbreviate(second_paragraph.text)\n",
    "    monster['tidbits'] = abbreviate(second_paragraph.text)\n",
    "    \n",
    "    third_paragraph = second_paragraph.findNext(\"p\")\n",
    "    monster['attributes'] = third_paragraph.text.replace(\" ft.\",\"'\")    \n",
    "    return monster"
   ]
  },
  {
   "cell_type": "code",
   "execution_count": 24,
   "id": "32e27c5b-d796-4bad-8f35-73d0a19f685f",
   "metadata": {},
   "outputs": [
    {
     "data": {
      "text/plain": [
       "{'url': 'http://dndroll.wikidot.com/creatures:spider',\n",
       " 'AC': '12',\n",
       " 'HP': '1 (1d4 - 1)',\n",
       " 'movement': 'Speed 20 ft., climb 20 ft.',\n",
       " 'str': '2 (-4)',\n",
       " 'dex': '14 (+2)',\n",
       " 'con': '8 (-1)',\n",
       " 'int': '1 (-5)',\n",
       " 'wis': '10 (+0)',\n",
       " 'cha': '2 (-4)',\n",
       " 'tidbits': \"Stealth +4<br>Darkvision 30', CR 0 (10 XP)\",\n",
       " 'attributes': 'Spider Climb. The spider can climb difficult surfaces, including upside down on ceilings, without needing to make an ability check.'}"
      ]
     },
     "execution_count": 24,
     "metadata": {},
     "output_type": "execute_result"
    }
   ],
   "source": [
    "m = get_monster(monsters_to_import[2])\n",
    "m"
   ]
  },
  {
   "cell_type": "code",
   "execution_count": null,
   "id": "dacd7fde-fddb-4122-8bcf-f5593ee6ed43",
   "metadata": {},
   "outputs": [],
   "source": []
  }
 ],
 "metadata": {
  "kernelspec": {
   "display_name": "dnd_monster_scraper",
   "language": "python",
   "name": "dnd_monster_scraper"
  },
  "language_info": {
   "codemirror_mode": {
    "name": "ipython",
    "version": 3
   },
   "file_extension": ".py",
   "mimetype": "text/x-python",
   "name": "python",
   "nbconvert_exporter": "python",
   "pygments_lexer": "ipython3",
   "version": "3.10.12"
  }
 },
 "nbformat": 4,
 "nbformat_minor": 5
}
