{
 "cells": [
  {
   "cell_type": "code",
   "execution_count": 1,
   "id": "f57b7904",
   "metadata": {},
   "outputs": [],
   "source": [
    "import pandas\n",
    "from bs4 import BeautifulSoup"
   ]
  },
  {
   "cell_type": "code",
   "execution_count": 2,
   "id": "ff0f8d20",
   "metadata": {},
   "outputs": [
    {
     "data": {
      "text/html": [
       "<div>\n",
       "<style scoped>\n",
       "    .dataframe tbody tr th:only-of-type {\n",
       "        vertical-align: middle;\n",
       "    }\n",
       "\n",
       "    .dataframe tbody tr th {\n",
       "        vertical-align: top;\n",
       "    }\n",
       "\n",
       "    .dataframe thead th {\n",
       "        text-align: right;\n",
       "    }\n",
       "</style>\n",
       "<table border=\"1\" class=\"dataframe\">\n",
       "  <thead>\n",
       "    <tr style=\"text-align: right;\">\n",
       "      <th></th>\n",
       "      <th>name</th>\n",
       "      <th>meta</th>\n",
       "      <th>str</th>\n",
       "      <th>dex</th>\n",
       "      <th>con</th>\n",
       "      <th>int</th>\n",
       "      <th>wis</th>\n",
       "      <th>cha</th>\n",
       "      <th>HP</th>\n",
       "      <th>AC</th>\n",
       "      <th>img</th>\n",
       "      <th>skills</th>\n",
       "      <th>senses</th>\n",
       "      <th>languages</th>\n",
       "      <th>descriptions</th>\n",
       "    </tr>\n",
       "    <tr>\n",
       "      <th>url</th>\n",
       "      <th></th>\n",
       "      <th></th>\n",
       "      <th></th>\n",
       "      <th></th>\n",
       "      <th></th>\n",
       "      <th></th>\n",
       "      <th></th>\n",
       "      <th></th>\n",
       "      <th></th>\n",
       "      <th></th>\n",
       "      <th></th>\n",
       "      <th></th>\n",
       "      <th></th>\n",
       "      <th></th>\n",
       "      <th></th>\n",
       "    </tr>\n",
       "  </thead>\n",
       "  <tbody>\n",
       "  </tbody>\n",
       "</table>\n",
       "</div>"
      ],
      "text/plain": [
       "Empty DataFrame\n",
       "Columns: [name, meta, str, dex, con, int, wis, cha, HP, AC, img, skills, senses, languages, descriptions]\n",
       "Index: []"
      ]
     },
     "execution_count": 2,
     "metadata": {},
     "output_type": "execute_result"
    }
   ],
   "source": [
    "database=\"monsters.csv\"\n",
    "monsters = pandas.read_csv(database)\n",
    "monsters = monsters.set_index('url')\n",
    "monsters"
   ]
  },
  {
   "cell_type": "code",
   "execution_count": 8,
   "id": "6b1af083",
   "metadata": {},
   "outputs": [
    {
     "data": {
      "text/plain": [
       "Index([], dtype='object', name='url')"
      ]
     },
     "execution_count": 8,
     "metadata": {},
     "output_type": "execute_result"
    }
   ],
   "source": [
    "monsters.index"
   ]
  },
  {
   "cell_type": "code",
   "execution_count": 4,
   "id": "d65e49fa",
   "metadata": {},
   "outputs": [],
   "source": [
    "monsters_to_add = ['https://www.dndbeyond.com/monsters/16841-dire-wolf']"
   ]
  },
  {
   "cell_type": "code",
   "execution_count": 15,
   "id": "8e95062e",
   "metadata": {},
   "outputs": [],
   "source": [
    "def add_monster(monsters, url):\n",
    "    if url in monsters.index:\n",
    "        print(\"found {url}, dropping\")\n",
    "        monsters = monsters.drop(url, axis='index')\n",
    "    "
   ]
  },
  {
   "cell_type": "code",
   "execution_count": 16,
   "id": "18648731",
   "metadata": {},
   "outputs": [],
   "source": [
    "add_monster(monsters, monsters_to_add[0])"
   ]
  },
  {
   "cell_type": "code",
   "execution_count": 17,
   "id": "eb3eb707",
   "metadata": {},
   "outputs": [],
   "source": [
    "from splinter import Browser\n",
    "browser = Browser('firefox')\n",
    "url = monsters_to_add[0]\n",
    "browser.visit(url)\n",
    "html = browser.html\n",
    "soup = BeautifulSoup(html, 'html.parser')\n",
    "browser.quit()"
   ]
  },
  {
   "cell_type": "code",
   "execution_count": 23,
   "id": "fe82ce90",
   "metadata": {},
   "outputs": [],
   "source": [
    "main_block = soup.find(\"div\", class_=\"mon-stat-block\")"
   ]
  },
  {
   "cell_type": "code",
   "execution_count": 24,
   "id": "92786672",
   "metadata": {},
   "outputs": [
    {
     "name": "stdout",
     "output_type": "stream",
     "text": [
      "<div class=\"mon-stat-block\">\n",
      "<div class=\"mon-stat-block__header\">\n",
      "<div class=\"mon-stat-block__name\">\n",
      "<a class=\"mon-stat-block__name-link\" href=\"/monsters/16841-dire-wolf\">\n",
      "                Dire Wolf\n",
      "            </a>\n",
      "</div>\n",
      "<div class=\"mon-stat-block__meta\">Large Beast, Unaligned</div>\n",
      "</div>\n",
      "<div class=\"mon-stat-block__separator\">\n",
      "<img alt=\"\" class=\"mon-stat-block__separator-img\" src=\"https://www.dndbeyond.com/file-attachments/0/579/stat-block-header-bar.svg\"/>\n",
      "</div>\n",
      "<div class=\"mon-stat-block__attributes\">\n",
      "<div class=\"mon-stat-block__attribute\">\n",
      "<span class=\"mon-stat-block__attribute-label\">Armor Class</span>\n",
      "<span class=\"mon-stat-block__attribute-value\">\n",
      "<span class=\"mon-stat-block__attribute-data-value\">\n",
      "                    14\n",
      "                </span>\n",
      "<span class=\"mon-stat-block__attribute-data-extra\">\n",
      "                        (natural armor)  \n",
      "                    </span>\n",
      "</span>\n",
      "</div>\n",
      "<div class=\"mon-stat-block__attribute\">\n",
      "<span class=\"mon-stat-block__attribute-label\">Hit Points</span>\n",
      "<span class=\"mon-stat-block__attribute-data\">\n",
      "<span class=\"mon-stat-block__attribute-data-value\">\n",
      "                    37\n",
      "                </span>\n",
      "<span class=\"mon-stat-block__attribute-data-extra\">\n",
      "                    (5d10 + 10)\n",
      "                </span>\n",
      "</span>\n",
      "</div>\n",
      "<div class=\"mon-stat-block__attribute\">\n",
      "<span class=\"mon-stat-block__attribute-label\">Speed</span>\n",
      "<span class=\"mon-stat-block__attribute-data\">\n",
      "<span class=\"mon-stat-block__attribute-data-value\">\n",
      "                    50 ft. \n",
      "                </span>\n",
      "</span>\n",
      "</div>\n",
      "</div>\n",
      "<div class=\"mon-stat-block__stat-block\">\n",
      "<div class=\"mon-stat-block__separator\">\n",
      "<img alt=\"\" class=\"mon-stat-block__separator-img\" src=\"https://www.dndbeyond.com/file-attachments/0/579/stat-block-header-bar.svg\"/>\n",
      "</div>\n",
      "<div class=\"ability-block\">\n",
      "<div class=\"ability-block__stat ability-block__stat--str\">\n",
      "<div class=\"ability-block__heading\">STR</div>\n",
      "<div class=\"ability-block__data\">\n",
      "<span class=\"ability-block__score\">17</span>\n",
      "<span class=\"ability-block__modifier\">(+3)</span>\n",
      "</div>\n",
      "</div>\n",
      "<div class=\"ability-block__stat ability-block__stat--dex\">\n",
      "<div class=\"ability-block__heading\">DEX</div>\n",
      "<div class=\"ability-block__data\">\n",
      "<span class=\"ability-block__score\">15</span>\n",
      "<span class=\"ability-block__modifier\">(+2)</span>\n",
      "</div>\n",
      "</div>\n",
      "<div class=\"ability-block__stat ability-block__stat--con\">\n",
      "<div class=\"ability-block__heading\">CON</div>\n",
      "<div class=\"ability-block__data\">\n",
      "<span class=\"ability-block__score\">15</span>\n",
      "<span class=\"ability-block__modifier\">(+2)</span>\n",
      "</div>\n",
      "</div>\n",
      "<div class=\"ability-block__stat ability-block__stat--int\">\n",
      "<div class=\"ability-block__heading\">INT</div>\n",
      "<div class=\"ability-block__data\">\n",
      "<span class=\"ability-block__score\">3</span>\n",
      "<span class=\"ability-block__modifier\">(-4)</span>\n",
      "</div>\n",
      "</div>\n",
      "<div class=\"ability-block__stat ability-block__stat--wis\">\n",
      "<div class=\"ability-block__heading\">WIS</div>\n",
      "<div class=\"ability-block__data\">\n",
      "<span class=\"ability-block__score\">12</span>\n",
      "<span class=\"ability-block__modifier\">(+1)</span>\n",
      "</div>\n",
      "</div>\n",
      "<div class=\"ability-block__stat ability-block__stat--cha\">\n",
      "<div class=\"ability-block__heading\">CHA</div>\n",
      "<div class=\"ability-block__data\">\n",
      "<span class=\"ability-block__score\">7</span>\n",
      "<span class=\"ability-block__modifier\">(-2)</span>\n",
      "</div>\n",
      "</div>\n",
      "</div>\n",
      "<div class=\"mon-stat-block__separator\">\n",
      "<img alt=\"\" class=\"mon-stat-block__separator-img\" src=\"https://www.dndbeyond.com/file-attachments/0/579/stat-block-header-bar.svg\"/>\n",
      "</div>\n",
      "</div>\n",
      "<div class=\"mon-stat-block__tidbits\">\n",
      "<div class=\"mon-stat-block__tidbit\">\n",
      "<span class=\"mon-stat-block__tidbit-label\">Skills</span>\n",
      "<span class=\"mon-stat-block__tidbit-data\">\n",
      "<a class=\"tooltip-hover skill-tooltip\" data-tooltip-href=\"//www.dndbeyond.com/skills/14-tooltip?disable-webm=1&amp;disable-webm=1\" href=\"/compendium/rules/basic-rules/using-ability-scores#Perception\">Perception</a> +3, <a class=\"tooltip-hover skill-tooltip\" data-tooltip-href=\"//www.dndbeyond.com/skills/5-tooltip?disable-webm=1&amp;disable-webm=1\" href=\"/compendium/rules/basic-rules/using-ability-scores#Stealth\">Stealth</a> +4\n",
      "                </span>\n",
      "</div>\n",
      "<div class=\"mon-stat-block__tidbit\">\n",
      "<span class=\"mon-stat-block__tidbit-label\">Senses</span>\n",
      "<span class=\"mon-stat-block__tidbit-data\">\n",
      "                     Passive Perception 13\n",
      "                </span>\n",
      "</div>\n",
      "<div class=\"mon-stat-block__tidbit\">\n",
      "<span class=\"mon-stat-block__tidbit-label\">Languages</span>\n",
      "<span class=\"mon-stat-block__tidbit-data\">\n",
      "                      --  \n",
      "                </span>\n",
      "</div>\n",
      "<div class=\"mon-stat-block__tidbit-container\">\n",
      "<div class=\"mon-stat-block__tidbit\">\n",
      "<span class=\"mon-stat-block__tidbit-label\">Challenge</span>\n",
      "<span class=\"mon-stat-block__tidbit-data\">\n",
      "                    1 (200 XP)\n",
      "                </span>\n",
      "</div>\n",
      "<div class=\"mon-stat-block__tidbit-spacer\"></div>\n",
      "<div class=\"mon-stat-block__tidbit\">\n",
      "<span class=\"mon-stat-block__tidbit-label\">Proficiency Bonus</span>\n",
      "<span class=\"mon-stat-block__tidbit-data\">\n",
      "                        +2\n",
      "                    </span>\n",
      "</div>\n",
      "</div>\n",
      "</div>\n",
      "<div class=\"mon-stat-block__separator\">\n",
      "<img alt=\"\" class=\"mon-stat-block__separator-img\" src=\"https://www.dndbeyond.com/file-attachments/0/579/stat-block-header-bar.svg\"/>\n",
      "</div>\n",
      "<div class=\"mon-stat-block__description-blocks\">\n",
      "<div class=\"mon-stat-block__description-block\">\n",
      "<div class=\"mon-stat-block__description-block-content\">\n",
      "<p><em><strong>Keen Hearing and Smell.</strong></em> The wolf has advantage on Wisdom (<a class=\"tooltip-hover skill-tooltip\" data-tooltip-href=\"//www.dndbeyond.com/skills/14-tooltip?disable-webm=1&amp;disable-webm=1\" href=\"/compendium/rules/basic-rules/using-ability-scores#Perception\">Perception</a>) checks that rely on hearing or smell.</p>\n",
      "<p><em><strong>Pack Tactics.</strong></em> The wolf has advantage on an attack roll against a creature if at least one of the wolf's allies is within 5 feet of the creature and the ally isn't <a class=\"tooltip-hover condition-tooltip\" data-tooltip-href=\"//www.dndbeyond.com/conditions/7-tooltip?disable-webm=1&amp;disable-webm=1\" href=\"/compendium/rules/basic-rules/appendix-a-conditions#Incapacitated\">incapacitated</a>.</p>\n",
      "</div>\n",
      "</div>\n",
      "<div class=\"mon-stat-block__description-block\">\n",
      "<div class=\"mon-stat-block__description-block-heading\">Actions</div>\n",
      "<div class=\"mon-stat-block__description-block-content\">\n",
      "<p><em><strong>Bite.</strong> Melee Weapon Attack:</em> <span data-dicenotation=\"1d20+5\" data-rollaction=\"Bite\" data-rolltype=\"to hit\">+5</span> to hit, reach 5 ft., one target. <em>Hit:</em> 10 <span data-dicenotation=\"2d6+3\" data-rollaction=\"Bite\" data-rolldamagetype=\"piercing\" data-rolltype=\"damage\">(2d6 + 3)</span> piercing damage. If the target is a creature, it must succeed on a DC 13 Strength saving throw or be knocked <a class=\"tooltip-hover condition-tooltip\" data-tooltip-href=\"//www.dndbeyond.com/conditions/12-tooltip?disable-webm=1&amp;disable-webm=1\" href=\"/compendium/rules/basic-rules/appendix-a-conditions#Prone\">prone</a>.</p>\n",
      "</div>\n",
      "</div>\n",
      "</div>\n",
      "</div>\n"
     ]
    }
   ],
   "source": [
    "print(main_block)"
   ]
  },
  {
   "cell_type": "code",
   "execution_count": 59,
   "id": "43c641fa",
   "metadata": {},
   "outputs": [
    {
     "data": {
      "text/plain": [
       "'Skills: Perception +3, Stealth +4;Senses: Passive Perception 13;Languages: --;Challenge: 1 (200 XP);Proficiency Bonus: +2'"
      ]
     },
     "execution_count": 59,
     "metadata": {},
     "output_type": "execute_result"
    }
   ],
   "source": [
    "tidbits_str = \"\"\n",
    "tidbits = main_block.find(\"div\", class_=\"mon-stat-block__tidbits\").find_all(\"div\", class_=\"mon-stat-block__tidbit\")\n",
    "for tidbit in tidbits:\n",
    "    label = tidbit.find(\"span\", class_=\"mon-stat-block__tidbit-label\").text.strip()\n",
    "    data = tidbit.find(\"span\", class_=\"mon-stat-block__tidbit-data\").text.strip()\n",
    "    tidbits_str += f\";{label}: {data}\"\n",
    "tidbits_str = tidbits_str[1:]\n",
    "tidbits_str"
   ]
  },
  {
   "cell_type": "code",
   "execution_count": 53,
   "id": "dffd1439",
   "metadata": {},
   "outputs": [
    {
     "name": "stdout",
     "output_type": "stream",
     "text": [
      "STR:17 (+3)\n"
     ]
    }
   ],
   "source": [
    "def get_attribute(block):\n",
    "    header = block.find(\"div\", class_=\"ability-block__heading\").text.strip()\n",
    "    value = block.find(\"span\", class_=\"ability-block__score\").text.strip()\n",
    "    mod = block.find(\"span\", class_=\"ability-block__modifier\")\n",
    "    if mod != None:\n",
    "        value += f\" {mod.text.strip()}\"\n",
    "    return header,value\n",
    "\n",
    "stat_blocks = main_block.find(\"div\", class_=\"mon-stat-block__stat-block\")\n",
    "h,strength = get_attribute(stat_blocks.find(\"div\", class_=\"ability-block__stat ability-block__stat--str\"))\n",
    "h,dex = get_attribute(stat_blocks.find(\"div\", class_=\"ability-block__stat ability-block__stat--dex\"))\n",
    "h,con = get_attribute(stat_blocks.find(\"div\", class_=\"ability-block__stat ability-block__stat--con\"))\n",
    "h,intelligence = get_attribute(stat_blocks.find(\"div\", class_=\"ability-block__stat ability-block__stat--int\"))\n",
    "h,wis = get_attribute(stat_blocks.find(\"div\", class_=\"ability-block__stat ability-block__stat--wis\"))\n",
    "h,cha = get_attribute(stat_blocks.find(\"div\", class_=\"ability-block__stat ability-block__stat--cha\"))\n"
   ]
  },
  {
   "cell_type": "code",
   "execution_count": 56,
   "id": "20d72824",
   "metadata": {},
   "outputs": [
    {
     "data": {
      "text/plain": [
       "'https://www.dndbeyond.com/avatars/thumbnails/16/484/1000/1000/636376300478361995.jpeg'"
      ]
     },
     "execution_count": 56,
     "metadata": {},
     "output_type": "execute_result"
    }
   ],
   "source": [
    "image_url = soup.find(\"img\", class_=\"monster-image\")[\"src\"]\n",
    "image_url"
   ]
  },
  {
   "cell_type": "code",
   "execution_count": 26,
   "id": "11aa90e8",
   "metadata": {},
   "outputs": [
    {
     "data": {
      "text/plain": [
       "'Dire Wolf'"
      ]
     },
     "execution_count": 26,
     "metadata": {},
     "output_type": "execute_result"
    }
   ],
   "source": [
    "name = main_block.find(\"div\", class_=\"mon-stat-block__name\").text.strip()\n",
    "name"
   ]
  },
  {
   "cell_type": "code",
   "execution_count": 27,
   "id": "bc2265ee",
   "metadata": {},
   "outputs": [
    {
     "data": {
      "text/plain": [
       "'Large Beast, Unaligned'"
      ]
     },
     "execution_count": 27,
     "metadata": {},
     "output_type": "execute_result"
    }
   ],
   "source": [
    "meta = main_block.find(\"div\", class_=\"mon-stat-block__meta\").text.strip()\n",
    "meta"
   ]
  },
  {
   "cell_type": "code",
   "execution_count": 35,
   "id": "d0ded608",
   "metadata": {},
   "outputs": [
    {
     "name": "stdout",
     "output_type": "stream",
     "text": [
      "Armor Class: 14 (natural armor)\n",
      "Hit Points: 37 (5d10 + 10)\n",
      "Speed: 50 ft.\n"
     ]
    },
    {
     "data": {
      "text/plain": [
       "'Armor Class:14 (natural armor);Hit Points:37 (5d10 + 10);Speed:50 ft.'"
      ]
     },
     "execution_count": 35,
     "metadata": {},
     "output_type": "execute_result"
    }
   ],
   "source": [
    "attributes_str = \"\"\n",
    "attributes = main_block.find(\"div\", class_=\"mon-stat-block__attributes\").find_all(\"div\", class_=\"mon-stat-block__attribute\")\n",
    "for attribute in attributes:\n",
    "    label = attribute.find(\"span\", class_=\"mon-stat-block__attribute-label\").text.strip()\n",
    "    value = attribute.find(\"span\", class_=\"mon-stat-block__attribute-data-value\").text.strip()\n",
    "    dataextra = attribute.find(\"span\", class_=\"mon-stat-block__attribute-data-extra\")\n",
    "    if not dataextra == None:\n",
    "        value = f\"{value} {dataextra.text.strip()}\"\n",
    "    attributes_str += f\";{label}:{value}\"\n",
    "    print(f\"{label}: {value}\")\n",
    "attributes_str = attributes_str[1:]\n",
    "attributes_str"
   ]
  },
  {
   "cell_type": "code",
   "execution_count": null,
   "id": "5166d06d",
   "metadata": {},
   "outputs": [],
   "source": []
  }
 ],
 "metadata": {
  "kernelspec": {
   "display_name": "dndbeyond_monster_scraper",
   "language": "python",
   "name": "dndbeyond_monster_scraper"
  },
  "language_info": {
   "codemirror_mode": {
    "name": "ipython",
    "version": 3
   },
   "file_extension": ".py",
   "mimetype": "text/x-python",
   "name": "python",
   "nbconvert_exporter": "python",
   "pygments_lexer": "ipython3",
   "version": "3.11.5"
  }
 },
 "nbformat": 4,
 "nbformat_minor": 5
}
